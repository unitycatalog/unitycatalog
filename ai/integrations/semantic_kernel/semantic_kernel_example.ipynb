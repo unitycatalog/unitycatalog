{
 "cells": [
  {
   "cell_type": "markdown",
   "id": "8886d6c4",
   "metadata": {},
   "source": [
    "# Semantic Kernel Tool calling capabilities with Unity Catalog\n",
    "\n",
    "## Prerequisites\n",
    "\n",
    "**API Key**\n",
    "To run this tutorial, you will need an OpenAI API key. \n",
    "\n",
    "Once you have acquired your key, set it to the environment variable `OPENAI_API_KEY`.\n",
    "\n",
    "Below, we validate that this key is set properly in your environment.\n",
    "\n",
    "**Packages**\n",
    "\n",
    "To interface with both UnityCatalog and Semantic Kernel, you will need to install the following package:\n",
    "\n",
    "```shell\n",
    "pip install unitycatalog-semantic-kernel\n",
    "```\n",
    "\n",
    "**Note**\n",
    "This example uses Semantic Kernel with Unity Catalog to create and use functions as tools within your AI applications."
   ]
  },
  {
   "cell_type": "code",
   "execution_count": 2,
   "id": "fefcf190",
   "metadata": {},
   "outputs": [],
   "source": [
    "import os\n",
    "\n",
    "assert \"OPENAI_API_KEY\" in os.environ, (\n",
    "    \"Please set the OPENAI_API_KEY environment variable to your OpenAI API key\"\n",
    ")"
   ]
  },
  {
   "cell_type": "markdown",
   "id": "800c1d8a",
   "metadata": {},
   "source": [
    "## Configuration and Client setup\n",
    "\n",
    "In order to connect to your Unity Catalog server, you'll need an instance of the `DatabricksFunctionClient` from the `unitycatalog-client` package. \n",
    "\n",
    "> Note: If you don't already have a Catalog and a Schema created, be sure to create them before running this notebook and adjust the `CATALOG` and `SCHEMA` variables below to suit."
   ]
  },
  {
   "cell_type": "code",
   "execution_count": 3,
   "id": "49bb1383",
   "metadata": {},
   "outputs": [],
   "source": [
    "from semantic_kernel import Kernel\n",
    "from semantic_kernel.connectors.ai.function_choice_behavior import FunctionChoiceBehavior\n",
    "from semantic_kernel.connectors.ai.open_ai import OpenAIChatCompletion\n",
    "from semantic_kernel.connectors.ai.prompt_execution_settings import PromptExecutionSettings\n",
    "from semantic_kernel.contents.chat_history import ChatHistory\n",
    "\n",
    "from unitycatalog.ai.core.databricks import DatabricksFunctionClient\n",
    "from unitycatalog.ai.semantic_kernel.toolkit import UCFunctionToolkit"
   ]
  },
  {
   "cell_type": "code",
   "execution_count": 4,
   "id": "798479d4",
   "metadata": {},
   "outputs": [],
   "source": [
    "# Initialize the Databricks client\n",
    "client = DatabricksFunctionClient(profile=\"<profile>\")\n",
    "\n",
    "CATALOG = \"AICatalog\"\n",
    "SCHEMA = \"AISchema\""
   ]
  },
  {
   "cell_type": "markdown",
   "id": "d83014c5",
   "metadata": {},
   "source": [
    "## Define a function and register it to Unity Catalog\n",
    "\n",
    "In this next section, we'll be defining a Python function and creating it within Unity Catalog so that it can be retrieved and used as a tool by Semantic Kernel. \n",
    "\n",
    "There are a few things to keep in mind when creating functions for use with the `create_python_function` API:\n",
    "\n",
    "- Ensure that your have properly defined types for all arguments and for the return of the function.\n",
    "- Ensure that you have a Google-style docstring defined that includes descriptions for the function, each argument, and the return of the function. This is critical, as these are used to populate the metadata associated with the function within Unity Catalog, providing contextual data for an LLM to understand when and how to call the tool associated with this function.\n",
    "- If there are packages being called that are not part of core Python, ensure that the import statements are locally scoped (defined within the function body)."
   ]
  },
  {
   "cell_type": "code",
   "execution_count": 5,
   "id": "8f6d9c8e",
   "metadata": {},
   "outputs": [],
   "source": [
    "def add_numbers(a: float, b: float) -> float:\n",
    "    \"\"\"\n",
    "    Adds two numbers and returns the result.\n",
    "\n",
    "    Args:\n",
    "        a (float): First number.\n",
    "        b (float): Second number.\n",
    "\n",
    "    Returns:\n",
    "        float: The sum of the two numbers.\n",
    "    \"\"\"\n",
    "    return a + b"
   ]
  },
  {
   "cell_type": "code",
   "execution_count": 6,
   "id": "c0d79c88",
   "metadata": {},
   "outputs": [
    {
     "name": "stdout",
     "output_type": "stream",
     "text": [
      "Created function: FunctionInfo(browse_only=None, catalog_name='puneetjain_uc', comment='Adds two numbers and returns the result.', created_at=1743154743012, created_by='puneet.jain@databricks.com', data_type=<ColumnTypeName.DOUBLE: 'DOUBLE'>, external_language='Python', external_name=None, full_data_type='DOUBLE', full_name='puneetjain_uc.autogen_ucai.add_numbers', function_id='df2d6256-8a20-482a-b231-530b4b7a26b5', input_params=FunctionParameterInfos(parameters=[FunctionParameterInfo(name='a', type_text='double', type_name=<ColumnTypeName.DOUBLE: 'DOUBLE'>, position=0, comment='First number.', parameter_default=None, parameter_mode=None, parameter_type=<FunctionParameterType.PARAM: 'PARAM'>, type_interval_type=None, type_json='{\"name\":\"a\",\"type\":\"double\",\"nullable\":true,\"metadata\":{\"comment\":\"First number.\"}}', type_precision=0, type_scale=0), FunctionParameterInfo(name='b', type_text='double', type_name=<ColumnTypeName.DOUBLE: 'DOUBLE'>, position=1, comment='Second number.', parameter_default=None, parameter_mode=None, parameter_type=<FunctionParameterType.PARAM: 'PARAM'>, type_interval_type=None, type_json='{\"name\":\"b\",\"type\":\"double\",\"nullable\":true,\"metadata\":{\"comment\":\"Second number.\"}}', type_precision=0, type_scale=0)]), is_deterministic=False, is_null_call=None, metastore_id='19a85dee-54bc-43a2-87ab-023d0ec16013', name='add_numbers', owner='puneet.jain@databricks.com', parameter_style=<FunctionInfoParameterStyle.S: 'S'>, properties='{\"sqlConfig.spark.databricks.sql.functions.aiFunctions.adaptiveThreadPool.taskWaitTimeInSeconds\":\"1000\",\"sqlConfig.spark.sql.ansi.enabled\":\"true\",\"sqlConfig.spark.databricks.sql.functions.aiFunctions.decimal.dataType.enabled\":\"true\",\"sqlConfig.spark.sql.streaming.statefulOperator.stateRebalancing.enabled\":\"false\",\"sqlConfig.spark.databricks.sql.functions.aiFunctions.adaptiveThreadPool.dynamicPoolSizeEnabled\":\"true\",\"sqlConfig.spark.databricks.sql.functions.aiFunctions.adaptiveThreadPool.debugLogEnabled\":\"true\",\"sqlConfig.spark.databricks.sql.functions.aiFunctions.remoteHttpClient.maxConnections\":\"2048\",\"sqlConfig.spark.sql.legacy.createHiveTableByDefault\":\"false\",\"sqlConfig.spark.sql.shuffleDependency.skipMigration.enabled\":\"true\",\"sqlConfig.spark.sql.streaming.stopTimeout\":\"15s\",\"sqlConfig.spark.databricks.sql.functions.aiFunctions.remoteHttpClient.timeoutInSeconds\":\"360\",\"sqlConfig.spark.databricks.sql.functions.aiFunctions.adaptiveThreadPool.enabled\":\"true\",\"sqlConfig.spark.sql.legacy.codingErrorAction\":\"true\",\"sqlConfig.spark.databricks.sql.functions.aiFunctions.adaptiveThreadPool.scaleUpThresholdCurrentQpsIncreaseRatio\":\"0.0\",\"sqlConfig.spark.databricks.sql.functions.builtInHttpReq.enabled\":\"true\",\"sqlConfig.spark.databricks.sql.functions.aiFunctions.adaptiveThreadPool.scaleUpThresholdTotalQpsIncreaseRatio\":\"0.0\",\"sqlConfig.spark.databricks.sql.functions.aiFunctions.useDedicatedHttpClient\":\"true\",\"sqlConfig.spark.sql.readSideCharPadding\":\"true\",\"sqlConfig.spark.sql.defaultStorage.zstdCompressionByDefault.enabled\":\"true\",\"sqlConfig.spark.sql.variable.substitute\":\"false\",\"sqlConfig.spark.databricks.sql.functions.aiFunctions.adaptiveThreadPool.threadKeepAliveTimeInSeconds\":\"600\",\"sqlConfig.spark.databricks.sql.expression.aiFunctions.repartition\":\"0\",\"sqlConfig.spark.databricks.sql.functions.aiForecast.enabled\":\"true\",\"sqlConfig.spark.sql.variant.writeShredding.enabled\":\"true\",\"sqlConfig.spark.databricks.sql.functions.aiFunctions.adaptiveThreadPool.useDynamicTaskQueueExecutor\":\"false\",\"sqlConfig.spark.sql.sources.default\":\"delta\",\"sqlConfig.spark.sql.hive.convertCTAS\":\"true\",\"sqlConfig.spark.sql.legacy.jdbc.doNotUseCalendar\":\"false\",\"sqlConfig.spark.databricks.sql.functions.vectorSearch.enabled\":\"true\",\"sqlConfig.spark.databricks.sql.functions.aiFunctions.safe.inference.enabled\":\"true\",\"sqlConfig.spark.sql.scripting.enabled\":\"true\",\"sqlConfig.spark.databricks.sql.functions.aiFunctions.batch.aiQuery.embedding.request.size\":\"4\",\"sqlConfig.spark.databricks.sql.functions.aiFunctions.batch.execution.size\":\"2048\",\"sqlConfig.spark.databricks.sql.functions.aiFunctions.adaptiveThreadPool.clusterSizeBasedGlobalParallelism.scaleFactor\":\"512.0\",\"sqlConfig.spark.databricks.sql.functions.aiGen.endpointName\":\"databricks-meta-llama-3-3-70b-instruct\",\"sqlConfig.spark.databricks.sql.functions.aiFunctions.embeddingsEndpointName\":\"databricks-gte-large-en\",\"sqlConfig.spark.databricks.sql.functions.aiFunctions.batchSession.enabled\":\"true\",\"sqlConfig.spark.databricks.sql.functions.aiFunctions.adaptiveThreadPool.maxPoolSize\":\"2048\",\"sqlConfig.spark.sql.sources.commitProtocolClass\":\"com.databricks.sql.transaction.directory.DirectoryAtomicCommitProtocol\",\"sqlConfig.spark.sql.functions.remoteHttpClient.retryOn400TimeoutError\":\"true\",\"sqlConfig.spark.databricks.sql.functions.aiFunctions.purposeBuiltFunctions.batch.execution.enabled\":\"true\",\"sqlConfig.spark.databricks.sql.functions.aiFunctions.adaptiveThreadPool.scaleUpThresholdSuccessRatio\":\"0.95\",\"sqlConfig.spark.databricks.sql.functions.aiFunctions.modelEndpointTypeParsing.enabled\":\"true\",\"sqlConfig.spark.databricks.sql.functions.aiFunctions.batchInferenceApi.enabled\":\"true\",\"sqlConfig.spark.sql.stableDerivedColumnAlias.enabled\":\"true\",\"sqlConfig.spark.sql.variant.pushVariantIntoScan\":\"true\",\"sqlConfig.spark.sql.parquet.compression.codec\":\"snappy\",\"sqlConfig.spark.databricks.sql.functions.aiFunctions.model.parameters.enabled\":\"true\",\"sqlConfig.spark.sql.streaming.stateStore.providerClass\":\"com.databricks.sql.streaming.state.RocksDBStateStoreProvider\",\"sqlConfig.spark.sql.disableErrorOnCredentialMismatch\":\"true\"}', return_params=None, routine_body=<FunctionInfoRoutineBody.EXTERNAL: 'EXTERNAL'>, routine_definition='\\n    return a + b\\n', routine_dependencies=None, schema_name='autogen_ucai', security_type=<FunctionInfoSecurityType.DEFINER: 'DEFINER'>, specific_name='add_numbers', sql_data_access=<FunctionInfoSqlDataAccess.NO_SQL: 'NO_SQL'>, sql_path=None, updated_at=1743154743012, updated_by='puneet.jain@databricks.com')\n"
     ]
    }
   ],
   "source": [
    "# Create the function within Unity Catalog\n",
    "function_info = client.create_python_function(\n",
    "    func=add_numbers,\n",
    "    catalog=CATALOG,\n",
    "    schema=SCHEMA,\n",
    "    replace=True,  # Set to True to overwrite if the function already exists\n",
    ")\n",
    "\n",
    "print(\"Created function:\", function_info)  # noqa: T201"
   ]
  },
  {
   "cell_type": "markdown",
   "id": "3ce66d0b",
   "metadata": {},
   "source": [
    "## Set up Semantic Kernel\n",
    "\n",
    "Now we'll set up Semantic Kernel with the necessary components for using our Unity Catalog function as a tool."
   ]
  },
  {
   "cell_type": "code",
   "execution_count": 8,
   "id": "26cb40f8",
   "metadata": {},
   "outputs": [],
   "source": [
    "# Initialize the kernel with an AI service\n",
    "kernel = Kernel()\n",
    "\n",
    "# Add chat completion service\n",
    "chat_completion_service = OpenAIChatCompletion(\n",
    "    ai_model_id=\"gpt-4\", api_key=os.getenv(\"OPENAI_API_KEY\")\n",
    ")\n",
    "\n",
    "# Set up execution settings\n",
    "settings = PromptExecutionSettings(\n",
    "    function_choice_behavior=FunctionChoiceBehavior.Auto(),\n",
    ")"
   ]
  },
  {
   "cell_type": "markdown",
   "id": "d4372cb2",
   "metadata": {},
   "source": [
    "## Create a Toolkit instance of the function\n",
    "\n",
    "Now that the function has been created within Unity Catalog, we can use the `unitycatalog-semantic-kernel` package to create a toolkit instance that Semantic Kernel will use to access our function."
   ]
  },
  {
   "cell_type": "code",
   "execution_count": 9,
   "id": "2e8d4acd",
   "metadata": {},
   "outputs": [
    {
     "data": {
      "text/plain": [
       "Kernel(retry_mechanism=PassThroughWithoutRetry(), services={}, ai_service_selector=<semantic_kernel.services.ai_service_selector.AIServiceSelector object at 0x173842c50>, plugins={'calculator': KernelPlugin(name='calculator', description=None, functions={'add_numbers': KernelFunctionFromMethod(metadata=KernelFunctionMetadata(name='add_numbers', plugin_name='calculator', description='Adds two numbers and returns the result.', parameters=[KernelParameterMetadata(name='a', description='First number.', default_value=None, type_='double', is_required=True, type_object=<class 'float'>, schema_data={'type': 'number', 'description': 'First number.'}, include_in_function_choices=True), KernelParameterMetadata(name='b', description='Second number.', default_value=None, type_='double', is_required=True, type_object=<class 'float'>, schema_data={'type': 'number', 'description': 'Second number.'}, include_in_function_choices=True)], is_prompt=False, is_asynchronous=False, return_parameter=KernelParameterMetadata(name='results', description='The Result of the function.', default_value=None, type_='string', is_required=True, type_object=<class 'str'>, schema_data={'type': 'string', 'description': 'The Result of the function.'}, include_in_function_choices=True), additional_properties={}), invocation_duration_histogram=<opentelemetry.metrics._internal.instrument._ProxyHistogram object at 0x31116d150>, streaming_duration_histogram=<opentelemetry.metrics._internal.instrument._ProxyHistogram object at 0x320dd9cd0>, method=<function UCFunctionToolkit.uc_function_to_semantic_kernel_tool.<locals>.kernel_func at 0x3132c5ee0>, stream_method=None)})}, function_invocation_filters=[], prompt_rendering_filters=[], auto_function_invocation_filters=[])"
      ]
     },
     "execution_count": 9,
     "metadata": {},
     "output_type": "execute_result"
    }
   ],
   "source": [
    "# Create toolkit instance\n",
    "toolkit = UCFunctionToolkit(function_names=[f\"{CATALOG}.{SCHEMA}.add_numbers\"], client=client)\n",
    "\n",
    "# Register Unity Catalog functions with the kernel\n",
    "toolkit.register_with_kernel(kernel, plugin_name=\"calculator\")"
   ]
  },
  {
   "cell_type": "markdown",
   "id": "8bb6ecef",
   "metadata": {},
   "source": [
    "## Create and Process Chat History\n",
    "\n",
    "Now we'll create a chat history and process it using our Semantic Kernel setup."
   ]
  },
  {
   "cell_type": "code",
   "execution_count": 10,
   "id": "77eab627",
   "metadata": {},
   "outputs": [],
   "source": [
    "# Create chat history\n",
    "chat_history = ChatHistory()\n",
    "chat_history.add_user_message(\n",
    "    \"\"\"You are a helpful calculator assistant. Use the calculator tools to answer questions about numbers.\n",
    "    Question: What is 49 + 82?\"\"\"\n",
    ")"
   ]
  },
  {
   "cell_type": "code",
   "execution_count": 11,
   "id": "cffbd26b",
   "metadata": {},
   "outputs": [
    {
     "name": "stdout",
     "output_type": "stream",
     "text": [
      "\n",
      "Final Response: The result of 49 + 82 is 131.\n"
     ]
    }
   ],
   "source": [
    "# Process the chat interaction\n",
    "response = await chat_completion_service.get_chat_message_content(\n",
    "    chat_history, settings, kernel=kernel\n",
    ")\n",
    "\n",
    "print(\"\\nFinal Response:\", response)  # noqa: T201"
   ]
  },
  {
   "cell_type": "markdown",
   "id": "9cdebb2e",
   "metadata": {},
   "source": [
    "## View Chat History\n",
    "\n",
    "Let's look at the complete chat history to see how the interaction unfolded."
   ]
  },
  {
   "cell_type": "code",
   "execution_count": 12,
   "id": "869890c2",
   "metadata": {},
   "outputs": [
    {
     "name": "stdout",
     "output_type": "stream",
     "text": [
      "\n",
      "Chat History:\n",
      "--------------------------------------------------------------------------------\n",
      "Role: AuthorRole.USER\n",
      "Content: You are a helpful calculator assistant. Use the calculator tools to answer questions about numbers.\n",
      "    Question: What is 49 + 82?\n",
      "--------------------------------------------------------------------------------\n",
      "Role: AuthorRole.ASSISTANT\n",
      "Content: \n",
      "Details: [FunctionCallContent(inner_content=None, ai_model_id=None, metadata={}, content_type='function_call', id='call_vYGDqditbrOVBXiLIKIQDi25', index=None, name='calculator-add_numbers', function_name='add_numbers', plugin_name='calculator', arguments='{\\n  \"a\": 49,\\n  \"b\": 82\\n}')]\n",
      "--------------------------------------------------------------------------------\n",
      "Role: AuthorRole.TOOL\n",
      "Content: \n",
      "Details: [FunctionResultContent(inner_content=FunctionResult(function=KernelFunctionMetadata(name='add_numbers', plugin_name='calculator', description='Adds two numbers and returns the result.', parameters=[KernelParameterMetadata(name='a', description='First number.', default_value=None, type_='double', is_required=True, type_object=<class 'float'>, schema_data={'type': 'number', 'description': 'First number.'}, include_in_function_choices=True), KernelParameterMetadata(name='b', description='Second number.', default_value=None, type_='double', is_required=True, type_object=<class 'float'>, schema_data={'type': 'number', 'description': 'Second number.'}, include_in_function_choices=True)], is_prompt=False, is_asynchronous=False, return_parameter=KernelParameterMetadata(name='results', description='The Result of the function.', default_value=None, type_='string', is_required=True, type_object=<class 'str'>, schema_data={'type': 'string', 'description': 'The Result of the function.'}, include_in_function_choices=True), additional_properties={}), value='{\"format\": \"SCALAR\", \"value\": \"131.0\"}', rendered_prompt=None, metadata={'arguments': {'a': 49, 'b': 82}, 'used_arguments': {'a': 49.0, 'b': 82.0}}), ai_model_id=None, metadata={'arguments': {'a': 49, 'b': 82}, 'used_arguments': {'a': 49.0, 'b': 82.0}}, content_type='function_result', id='call_vYGDqditbrOVBXiLIKIQDi25', result='{\"format\": \"SCALAR\", \"value\": \"131.0\"}', name='calculator-add_numbers', function_name='add_numbers', plugin_name='calculator', encoding=None)]\n",
      "--------------------------------------------------------------------------------\n"
     ]
    }
   ],
   "source": [
    "print(\"\\nChat History:\")  # noqa: T201\n",
    "print(\"-\" * 80)  # noqa: T201\n",
    "for message in chat_history.messages:\n",
    "    print(f\"Role: {message.role}\")  # noqa: T201\n",
    "    print(f\"Content: {message.content}\")  # noqa: T201\n",
    "    if message.content == \"\":\n",
    "        print(f\"Details: {message.items}\")  # noqa: T201\n",
    "    print(\"-\" * 80)  # noqa: T201"
   ]
  }
 ],
 "metadata": {
  "kernelspec": {
   "display_name": "Python 3",
   "language": "python",
   "name": "python3"
  },
  "language_info": {
   "codemirror_mode": {
    "name": "ipython",
    "version": 3
   },
   "file_extension": ".py",
   "mimetype": "text/x-python",
   "name": "python",
   "nbconvert_exporter": "python",
   "pygments_lexer": "ipython3",
   "version": "3.11.5"
  }
 },
 "nbformat": 4,
 "nbformat_minor": 5
}
