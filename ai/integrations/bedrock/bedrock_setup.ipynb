{
 "cells": [
  {
   "cell_type": "markdown",
   "metadata": {},
   "source": [
    "## Notebook to create Unity Catalog functions, Bedrock Agents and Action groups."
   ]
  },
  {
   "cell_type": "code",
   "execution_count": 26,
   "metadata": {},
   "outputs": [],
   "source": [
    "import logging\n",
    "import sys\n",
    "\n",
    "from unitycatalog.ai.bedrock.toolkit import UCFunctionToolkit\n",
    "from unitycatalog.ai.core.client import UnitycatalogFunctionClient\n",
    "from unitycatalog.client import ApiClient, Configuration\n",
    "\n",
    "logging.basicConfig(stream=sys.stdout, level=logging.INFO)\n",
    "logger = logging.getLogger(__name__)"
   ]
  },
  {
   "cell_type": "code",
   "execution_count": 27,
   "metadata": {},
   "outputs": [],
   "source": [
    "from unitycatalog.ai.bedrock.envs.bedrock_env_vars import BedrockEnvVars\n",
    "\n",
    "bedrock_env = BedrockEnvVars.get_instance()"
   ]
  },
  {
   "cell_type": "code",
   "execution_count": 28,
   "metadata": {},
   "outputs": [],
   "source": [
    "def setup_uc_client():\n",
    "    \"\"\"Set up Unity Catalog client\"\"\"\n",
    "    config = Configuration()\n",
    "    config.host = \"http://0.0.0.0:8080/api/2.1/unity-catalog\"\n",
    "    api_client = ApiClient(configuration=config)\n",
    "    return UnitycatalogFunctionClient(api_client=api_client)"
   ]
  },
  {
   "cell_type": "code",
   "execution_count": 29,
   "metadata": {},
   "outputs": [],
   "source": [
    "client = setup_uc_client()"
   ]
  },
  {
   "cell_type": "code",
   "execution_count": 30,
   "metadata": {},
   "outputs": [],
   "source": [
    "CATALOG = \"AICatalog\"\n",
    "SCHEMA = \"AISchema\""
   ]
  },
  {
   "cell_type": "code",
   "execution_count": 31,
   "metadata": {},
   "outputs": [],
   "source": [
    "def get_weather_in_celsius(location_id: str, fetch_date: str) -> str:\n",
    "    \"\"\"\n",
    "    Fetches weather data (in Celsius) for a given location and date.\n",
    "\n",
    "    Args:\n",
    "        location_id (str): A unique identifier for the location.\n",
    "        fetch_date (str): The date to fetch the weather for (format: YYYY-MM-DD).\n",
    "\n",
    "    Raises:\n",
    "        Exception: For unexpected errors during execution.\n",
    "\n",
    "    Returns:\n",
    "        str: Temperature in Celsius.\n",
    "    \"\"\"\n",
    "    try:\n",
    "        return str(23)\n",
    "    except Exception as e:\n",
    "        raise Exception(f\"An unexpected error occurred: {e}\") from e"
   ]
  },
  {
   "cell_type": "code",
   "execution_count": 32,
   "metadata": {},
   "outputs": [],
   "source": [
    "def get_weather_in_fahrenheit(location_id: str, fetch_date: str) -> str:\n",
    "    \"\"\"\n",
    "    Fetches weather data (in fahrenheit) for a given location and date.\n",
    "\n",
    "    Args:\n",
    "        location_id (str): A unique identifier for the location.\n",
    "        fetch_date (str): The date to fetch the weather for (format: YYYY-MM-DD).\n",
    "\n",
    "    Raises:\n",
    "        Exception: For unexpected errors during execution.\n",
    "\n",
    "    Returns:\n",
    "        str: Temperature in fahrenheit.\n",
    "    \"\"\"\n",
    "    try:\n",
    "        return str(72)\n",
    "    except Exception as e:\n",
    "        raise Exception(f\"An unexpected error occurred: {e}\") from e"
   ]
  },
  {
   "cell_type": "code",
   "execution_count": null,
   "metadata": {},
   "outputs": [],
   "source": [
    "client.uc.create_catalog(name=CATALOG, comment=\"Catalog for AI functions\")"
   ]
  },
  {
   "cell_type": "code",
   "execution_count": null,
   "metadata": {},
   "outputs": [],
   "source": [
    "client.uc.create_schema(catalog_name=CATALOG, name=SCHEMA, comment=\"Schema for AI functions\")"
   ]
  },
  {
   "cell_type": "code",
   "execution_count": null,
   "metadata": {},
   "outputs": [],
   "source": [
    "client.create_python_function(\n",
    "    func=get_weather_in_celsius, catalog=CATALOG, schema=SCHEMA, replace=True\n",
    ")"
   ]
  },
  {
   "cell_type": "code",
   "execution_count": null,
   "metadata": {},
   "outputs": [],
   "source": [
    "client.create_python_function(\n",
    "    func=get_weather_in_fahrenheit, catalog=CATALOG, schema=SCHEMA, replace=True\n",
    ")"
   ]
  },
  {
   "cell_type": "code",
   "execution_count": null,
   "metadata": {},
   "outputs": [],
   "source": [
    "client.list_functions(catalog=CATALOG, schema=SCHEMA)"
   ]
  },
  {
   "cell_type": "code",
   "execution_count": null,
   "metadata": {},
   "outputs": [],
   "source": [
    "function_name = f\"{CATALOG}.{SCHEMA}.get_weather_in_celsius\"\n",
    "uc_f_toolkit = UCFunctionToolkit(function_names=[function_name], client=client)\n",
    "\n",
    "logger.info(f\"UC Function Toolkit:{uc_f_toolkit}\")"
   ]
  },
  {
   "cell_type": "markdown",
   "metadata": {},
   "source": [
    "### Bedrock Agents and Action groups."
   ]
  },
  {
   "cell_type": "code",
   "execution_count": 39,
   "metadata": {},
   "outputs": [],
   "source": [
    "import json\n",
    "import logging\n",
    "import sys\n",
    "import time\n",
    "\n",
    "import boto3\n",
    "\n",
    "logging.basicConfig(stream=sys.stdout, level=logging.INFO)\n",
    "logger = logging.getLogger(__name__)\n",
    "\n",
    "\n",
    "iam_client = boto3.client(\"iam\")\n",
    "sts_client = boto3.client(\"sts\")\n",
    "session = boto3.session.Session()"
   ]
  },
  {
   "cell_type": "code",
   "execution_count": null,
   "metadata": {},
   "outputs": [],
   "source": [
    "bedrock_env.aws_region = session.region_name\n",
    "account_id = sts_client.get_caller_identity()[\"Account\"]\n",
    "\n",
    "logger.info(f\"region:{bedrock_env.aws_region}\")\n",
    "logger.info(f\"account_id:{account_id}\")"
   ]
  },
  {
   "cell_type": "code",
   "execution_count": null,
   "metadata": {},
   "outputs": [],
   "source": [
    "# Agent foundation model id\n",
    "bedrock_env.bedrock_model_id = \"anthropic.claude-3-5-sonnet-20240620-v1:0\"\n",
    "# Agent foundation model Invoke requests per minute\n",
    "# Check the model's service quota for the allowed limits\n",
    "bedrock_env.bedrock_rpm_limit = 1"
   ]
  },
  {
   "cell_type": "code",
   "execution_count": 42,
   "metadata": {},
   "outputs": [],
   "source": [
    "import uuid\n",
    "\n",
    "unique_id = str(uuid.uuid4())[:8]"
   ]
  },
  {
   "cell_type": "code",
   "execution_count": null,
   "metadata": {},
   "outputs": [],
   "source": [
    "# Create bedrock agent IAM policy\n",
    "agent_bedrock_allow_policy_name = f\"ucai-iam-policy-name-{unique_id}\"\n",
    "\n",
    "# Create IAM policies for agent\n",
    "bedrock_agent_bedrock_allow_policy_statement = {\n",
    "    \"Version\": \"2012-10-17\",\n",
    "    \"Statement\": [\n",
    "        {\n",
    "            \"Sid\": \"AmazonBedrockAgentBedrockFoundationModelPolicy\",\n",
    "            \"Effect\": \"Allow\",\n",
    "            \"Action\": \"bedrock:InvokeModel\",\n",
    "            \"Resource\": [\n",
    "                f\"arn:aws:bedrock:{bedrock_env.aws_region}::foundation-model/{bedrock_env.bedrock_model_id}\"\n",
    "            ],\n",
    "        },\n",
    "        {\n",
    "            \"Sid\": \"AmazonBedrockAgentStreamBedrockFoundationModelPolicy\",\n",
    "            \"Effect\": \"Allow\",\n",
    "            \"Action\": \"bedrock:InvokeModelWithResponseStream\",\n",
    "            \"Resource\": [\n",
    "                f\"arn:aws:bedrock:{bedrock_env.aws_region}::foundation-model/{bedrock_env.bedrock_model_id}\"\n",
    "            ],\n",
    "        },\n",
    "    ],\n",
    "}\n",
    "\n",
    "\n",
    "bedrock_policy_json = json.dumps(bedrock_agent_bedrock_allow_policy_statement)\n",
    "\n",
    "agent_bedrock_policy = iam_client.create_policy(\n",
    "    PolicyName=agent_bedrock_allow_policy_name, PolicyDocument=bedrock_policy_json\n",
    ")\n",
    "\n",
    "logger.info(agent_bedrock_policy)"
   ]
  },
  {
   "cell_type": "code",
   "execution_count": null,
   "metadata": {},
   "outputs": [],
   "source": [
    "# Create IAM Role for the agent and attach IAM policies\n",
    "agent_role_name = f\"ucai-iam-role-name-{unique_id}\"\n",
    "\n",
    "assume_role_policy_document = {\n",
    "    \"Version\": \"2012-10-17\",\n",
    "    \"Statement\": [\n",
    "        {\n",
    "            \"Effect\": \"Allow\",\n",
    "            \"Principal\": {\"Service\": \"bedrock.amazonaws.com\"},\n",
    "            \"Action\": \"sts:AssumeRole\",\n",
    "        }\n",
    "    ],\n",
    "}\n",
    "\n",
    "assume_role_policy_document_json = json.dumps(assume_role_policy_document)\n",
    "agent_role = iam_client.create_role(\n",
    "    RoleName=agent_role_name, AssumeRolePolicyDocument=assume_role_policy_document_json\n",
    ")\n",
    "\n",
    "# Pause to make sure role is created\n",
    "time.sleep(10)\n",
    "\n",
    "iam_client.attach_role_policy(\n",
    "    RoleName=agent_role_name, PolicyArn=agent_bedrock_policy[\"Policy\"][\"Arn\"]\n",
    ")"
   ]
  },
  {
   "cell_type": "code",
   "execution_count": null,
   "metadata": {},
   "outputs": [],
   "source": [
    "logger.info(agent_role)"
   ]
  },
  {
   "cell_type": "code",
   "execution_count": null,
   "metadata": {},
   "outputs": [],
   "source": [
    "# Create bedrock agent\n",
    "\n",
    "bedrock_env.bedrock_agent_name = f\"ucai-bedrock-agent-{unique_id}\"\n",
    "agent_description = \"ucai-bedrock-agent-description\"\n",
    "agent_instruction = \"You are a weather agent to fetch the current weather in celsius and fahrenheit for a given location\"\n",
    "\n",
    "bedrock_agent_client = boto3.client(\"bedrock-agent\")\n",
    "\n",
    "create_agent_response = bedrock_agent_client.create_agent(\n",
    "    agentName=bedrock_env.bedrock_agent_name,\n",
    "    agentResourceRoleArn=agent_role[\"Role\"][\"Arn\"],\n",
    "    description=agent_description,\n",
    "    idleSessionTTLInSeconds=1800,\n",
    "    foundationModel=bedrock_env.bedrock_model_id,\n",
    "    instruction=agent_instruction,\n",
    ")\n",
    "logger.info(create_agent_response)"
   ]
  },
  {
   "cell_type": "code",
   "execution_count": null,
   "metadata": {},
   "outputs": [],
   "source": [
    "bedrock_env.bedrock_agent_id = create_agent_response[\"agent\"][\"agentId\"]\n",
    "logger.info(f\"agent_id:{bedrock_env.bedrock_agent_id }\")"
   ]
  },
  {
   "cell_type": "code",
   "execution_count": 48,
   "metadata": {},
   "outputs": [],
   "source": [
    "# Prepare the function specifications\n",
    "agent_functions = [\n",
    "    {\n",
    "        \"name\": \"get_weather_in_celsius\",\n",
    "        \"description\": \"Fetch the current weather in celsius for a given location and date\",\n",
    "        \"parameters\": {\n",
    "            \"location_id\": {\n",
    "                \"description\": \"The unique identifier of the location to retrieve the temperature for\",\n",
    "                \"required\": True,\n",
    "                \"type\": \"string\",\n",
    "            },\n",
    "            \"fetch_date\": {\n",
    "                \"description\": \"The specific date for which the temperature needs to be retrieved\",\n",
    "                \"required\": True,\n",
    "                \"type\": \"string\",\n",
    "            },\n",
    "        },\n",
    "        \"requireConfirmation\": \"ENABLED\",\n",
    "    },\n",
    "    {\n",
    "        \"name\": \"get_weather_in_fahrenheit\",\n",
    "        \"description\": \"Fetch the current weather in fahrenheit for a given location and date\",\n",
    "        \"parameters\": {\n",
    "            \"location_id\": {\n",
    "                \"description\": \"The unique identifier of the location to retrieve the temperature for\",\n",
    "                \"required\": True,\n",
    "                \"type\": \"string\",\n",
    "            },\n",
    "            \"fetch_date\": {\n",
    "                \"description\": \"The specific date for which the temperature needs to be retrieved\",\n",
    "                \"required\": True,\n",
    "                \"type\": \"string\",\n",
    "            },\n",
    "        },\n",
    "        \"requireConfirmation\": \"ENABLED\",\n",
    "    },\n",
    "]"
   ]
  },
  {
   "cell_type": "code",
   "execution_count": null,
   "metadata": {},
   "outputs": [],
   "source": [
    "# Prepare agent group using function schema\n",
    "agent_action_group_name = f\"ucai-bda-action-group-name-{unique_id}\"\n",
    "agent_action_group_description = \"Actions to fetch the weather of a given location for a given date\"\n",
    "\n",
    "agent_action_group_response = bedrock_agent_client.create_agent_action_group(\n",
    "    agentId=bedrock_env.bedrock_agent_id,\n",
    "    agentVersion=\"DRAFT\",\n",
    "    actionGroupExecutor={\"customControl\": \"RETURN_CONTROL\"},\n",
    "    actionGroupName=agent_action_group_name,\n",
    "    functionSchema={\"functions\": agent_functions},\n",
    "    description=agent_action_group_description,\n",
    ")\n",
    "logger.info(agent_action_group_response)"
   ]
  },
  {
   "cell_type": "code",
   "execution_count": null,
   "metadata": {},
   "outputs": [],
   "source": [
    "response = bedrock_agent_client.prepare_agent(agentId=bedrock_env.bedrock_agent_id)\n",
    "logger.info(response)"
   ]
  },
  {
   "cell_type": "code",
   "execution_count": null,
   "metadata": {
    "vscode": {
     "languageId": "ruby"
    }
   },
   "outputs": [],
   "source": [
    "# Create bedrock agent alias\n",
    "agent_alias_name = f\"ucai-bedrock-agent-alias-{unique_id}\"\n",
    "agent_alias_description = \"Alias for the weather agent\"\n",
    "\n",
    "create_alias_response = bedrock_agent_client.create_agent_alias(\n",
    "    agentId=bedrock_env.bedrock_agent_id,\n",
    "    agentAliasName=agent_alias_name,\n",
    "    description=agent_alias_description\n",
    ")\n",
    "\n",
    "logger.info(create_alias_response)\n",
    "bedrock_env.bedrock_agent_alias_id = create_alias_response['agentAlias']['agentAliasId']\n",
    "logger.info(f\"agent_alias_id:{bedrock_env.bedrock_agent_alias_id}\")"
   ]
  },
  {
   "cell_type": "code",
   "execution_count": null,
   "metadata": {
    "vscode": {
     "languageId": "ruby"
    }
   },
   "outputs": [],
   "source": [
    "bedrock_env.save_to_file()"
   ]
  }
 ],
 "metadata": {
  "kernelspec": {
   "display_name": ".venv",
   "language": "python",
   "name": "python3"
  },
  "language_info": {
   "codemirror_mode": {
    "name": "ipython",
    "version": 3
   },
   "file_extension": ".py",
   "mimetype": "text/x-python",
   "name": "python",
   "nbconvert_exporter": "python",
   "pygments_lexer": "ipython3",
   "version": "3.13.1"
  }
 },
 "nbformat": 4,
 "nbformat_minor": 2
}
