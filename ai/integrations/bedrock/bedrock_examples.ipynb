{
 "cells": [
  {
   "cell_type": "markdown",
   "metadata": {},
   "source": [
    "### UC OSS Bedrock Agent Demo notebook \n",
    "### Shorter version to test existing agents and functions/tools."
   ]
  },
  {
   "cell_type": "code",
   "execution_count": null,
   "metadata": {},
   "outputs": [],
   "source": [
    "from unitycatalog.ai.core.client import UnitycatalogFunctionClient\n",
    "from unitycatalog.client import ApiClient, Configuration\n",
    "from unitycatalog.ai.bedrock.toolkit import UCFunctionToolkit\n",
    "import pprint"
   ]
  },
  {
   "cell_type": "code",
   "execution_count": null,
   "metadata": {},
   "outputs": [],
   "source": [
    "import sys\n",
    "import logging\n",
    "\n",
    "logging.basicConfig(stream=sys.stdout, level=logging.DEBUG)\n",
    "logger = logging.getLogger(__name__)\n"
   ]
  },
  {
   "cell_type": "code",
   "execution_count": null,
   "metadata": {},
   "outputs": [],
   "source": [
    "UNITY_CATALOG_SERVER = \"localhost:8080\"\n",
    "CATALOG = \"AICatalog\"\n",
    "SCHEMA = \"AISchema\""
   ]
  },
  {
   "cell_type": "code",
   "execution_count": null,
   "metadata": {},
   "outputs": [],
   "source": [
    "config = Configuration()\n",
    "config.host = f\"http://{UNITY_CATALOG_SERVER}/api/2.1/unity-catalog\"\n",
    "\n",
    "# The base ApiClient is async\n",
    "api_client = ApiClient(configuration=config)\n",
    "\n",
    "uc_client = UnitycatalogFunctionClient(api_client=api_client)"
   ]
  },
  {
   "cell_type": "code",
   "execution_count": null,
   "metadata": {},
   "outputs": [],
   "source": [
    "function_names = [f\"{CATALOG}.{SCHEMA}.get_weather_in_celsius\", f\"{CATALOG}.{SCHEMA}.get_weather_in_fahrenheit\"]\n",
    "uc_f_toolkit = UCFunctionToolkit(function_names=function_names, client=uc_client)"
   ]
  },
  {
   "cell_type": "code",
   "execution_count": null,
   "metadata": {},
   "outputs": [],
   "source": [
    "print(uc_f_toolkit)"
   ]
  },
  {
   "cell_type": "code",
   "execution_count": null,
   "metadata": {},
   "outputs": [],
   "source": [
    "uc_functions = uc_client.list_functions(\n",
    "    catalog=CATALOG,\n",
    "    schema=SCHEMA,\n",
    "    max_results=10\n",
    ")\n",
    "\n",
    "pprint.pp(uc_functions)"
   ]
  },
  {
   "cell_type": "markdown",
   "metadata": {},
   "source": [
    "### Toolkit usage with single action group and multiple functions/tools"
   ]
  },
  {
   "cell_type": "code",
   "execution_count": null,
   "metadata": {},
   "outputs": [],
   "source": [
    "import boto3, pprint, json, time, uuid\n",
    "\n",
    "# Bedrock agent configuration\n",
    "agent_id = \"WJYXGSCSX3\"\n",
    "agent_alias_id_c_fh = \"YHEAWE0PKC\"\n",
    "\n",
    "session_fh = uc_f_toolkit.create_session(agent_id=agent_id,\n",
    "                                agent_alias_id=agent_alias_id_c_fh,\n",
    "                                catalog_name=CATALOG,\n",
    "                                schema_name=SCHEMA)\n",
    "# Generate unique session ID\n",
    "session_id_cfh = str(uuid.uuid1())"
   ]
  },
  {
   "cell_type": "code",
   "execution_count": null,
   "metadata": {},
   "outputs": [],
   "source": [
    "final_response = session_fh.invoke_agent(\n",
    "                input_text=\"What is the weather in Centigrade and Fahrenheit for location 12345 and date of 2025-02-26?\",\n",
    "                enable_trace=True,\n",
    "                session_id=session_id_cfh,\n",
    "                uc_client = uc_f_toolkit.client\n",
    "                )"
   ]
  },
  {
   "cell_type": "code",
   "execution_count": null,
   "metadata": {},
   "outputs": [],
   "source": [
    "final_response.response_body"
   ]
  }
 ],
 "metadata": {
  "kernelspec": {
   "display_name": ".venv",
   "language": "python",
   "name": "python3"
  },
  "language_info": {
   "codemirror_mode": {
    "name": "ipython",
    "version": 3
   },
   "file_extension": ".py",
   "mimetype": "text/x-python",
   "name": "python",
   "nbconvert_exporter": "python",
   "pygments_lexer": "ipython3",
   "version": "3.13.1"
  }
 },
 "nbformat": 4,
 "nbformat_minor": 2
}
