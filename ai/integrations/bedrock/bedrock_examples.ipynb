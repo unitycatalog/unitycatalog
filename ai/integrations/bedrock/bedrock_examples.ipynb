{
 "cells": [
  {
   "cell_type": "markdown",
   "metadata": {},
   "source": [
    "### UC OSS Bedrock Agent Demo notebook \n",
    "### Shorter version to test existing agents and functions/tools."
   ]
  },
  {
   "cell_type": "code",
   "execution_count": 3,
   "metadata": {},
   "outputs": [],
   "source": [
    "import logging\n",
    "import sys\n",
    "\n",
    "from unitycatalog.ai.bedrock.toolkit import UCFunctionToolkit\n",
    "from unitycatalog.ai.core.client import UnitycatalogFunctionClient\n",
    "from unitycatalog.client import ApiClient, Configuration\n",
    "\n",
    "logging.basicConfig(stream=sys.stdout, level=logging.INFO)\n",
    "logger = logging.getLogger(__name__)"
   ]
  },
  {
   "cell_type": "code",
   "execution_count": null,
   "metadata": {},
   "outputs": [],
   "source": [
    "import pprint\n",
    "\n",
    "from unitycatalog.ai.bedrock.envs.bedrock_env_vars import BedrockEnvVars\n",
    "\n",
    "bedrock_env = BedrockEnvVars.get_instance(load_from_file=True)\n",
    "success = bedrock_env.load_from_file()\n",
    "\n",
    "if success:\n",
    "    logger.info(\n",
    "        f\"Bedrock Environment Variables:\\n{pprint.pformat(bedrock_env.as_dict(), indent=2, width=100)}\"\n",
    "    )"
   ]
  },
  {
   "cell_type": "code",
   "execution_count": 21,
   "metadata": {},
   "outputs": [],
   "source": [
    "UNITY_CATALOG_SERVER = \"localhost:8080\"\n",
    "CATALOG = \"AICatalog\"\n",
    "SCHEMA = \"AISchema\""
   ]
  },
  {
   "cell_type": "code",
   "execution_count": 22,
   "metadata": {},
   "outputs": [],
   "source": [
    "config = Configuration()\n",
    "config.host = f\"http://{UNITY_CATALOG_SERVER}/api/2.1/unity-catalog\"\n",
    "\n",
    "api_client = ApiClient(configuration=config)\n",
    "uc_client = UnitycatalogFunctionClient(api_client=api_client)"
   ]
  },
  {
   "cell_type": "code",
   "execution_count": null,
   "metadata": {},
   "outputs": [],
   "source": [
    "function_names = [\n",
    "    f\"{CATALOG}.{SCHEMA}.get_weather_in_celsius\",\n",
    "    f\"{CATALOG}.{SCHEMA}.get_weather_in_fahrenheit\",\n",
    "]\n",
    "uc_f_toolkit = UCFunctionToolkit(function_names=function_names, client=uc_client)\n",
    "logger.info(uc_f_toolkit)"
   ]
  },
  {
   "cell_type": "markdown",
   "metadata": {},
   "source": [
    "### Toolkit usage with single action group and multiple functions/tools"
   ]
  },
  {
   "cell_type": "code",
   "execution_count": 24,
   "metadata": {},
   "outputs": [],
   "source": [
    "import uuid\n",
    "\n",
    "# Create a session\n",
    "session_respone = uc_f_toolkit.create_session(\n",
    "    agent_id=bedrock_env.bedrock_agent_id,\n",
    "    agent_alias_id=bedrock_env.bedrock_agent_alias_id,\n",
    "    catalog_name=CATALOG,\n",
    "    schema_name=SCHEMA,\n",
    ")\n",
    "# Generate unique session ID\n",
    "session_id = str(uuid.uuid1())"
   ]
  },
  {
   "cell_type": "code",
   "execution_count": null,
   "metadata": {},
   "outputs": [],
   "source": [
    "final_response = session_respone.invoke_agent(\n",
    "    input_text=\"What is the weather in Centigrade and Fahrenheit for location 12345 and date of 2025-02-26?\",\n",
    "    enable_trace=True,\n",
    "    session_id=session_id,\n",
    "    uc_client=uc_f_toolkit.client,\n",
    ")"
   ]
  },
  {
   "cell_type": "code",
   "execution_count": null,
   "metadata": {},
   "outputs": [],
   "source": [
    "logger.info(f\" Resonse from bedrock agent: {final_response.response_body}\")"
   ]
  }
 ],
 "metadata": {
  "kernelspec": {
   "display_name": ".venv",
   "language": "python",
   "name": "python3"
  },
  "language_info": {
   "codemirror_mode": {
    "name": "ipython",
    "version": 3
   },
   "file_extension": ".py",
   "mimetype": "text/x-python",
   "name": "python",
   "nbconvert_exporter": "python",
   "pygments_lexer": "ipython3",
   "version": "3.12.7"
  }
 },
 "nbformat": 4,
 "nbformat_minor": 2
}
