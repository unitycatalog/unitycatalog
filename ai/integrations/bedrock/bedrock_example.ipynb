{
 "cells": [
  {
   "cell_type": "markdown",
   "metadata": {},
   "source": [
    "## Notebook to create Unity Catalog functions, Bedrock Agents and Action groups."
   ]
  },
  {
   "cell_type": "code",
   "execution_count": 1,
   "metadata": {},
   "outputs": [],
   "source": [
    "import logging\n",
    "import sys\n",
    "\n",
    "from unitycatalog.ai.bedrock.envs.bedrock_env_vars import BedrockEnvVars\n",
    "from unitycatalog.ai.bedrock.utils import pretty_print\n",
    "\n",
    "logging.basicConfig(stream=sys.stdout, level=logging.INFO)\n",
    "logger = logging.getLogger(__name__)\n",
    "\n",
    "bedrock_env = BedrockEnvVars()"
   ]
  },
  {
   "cell_type": "code",
   "execution_count": 2,
   "metadata": {},
   "outputs": [],
   "source": [
    "bedrock_env.aws_profile = \"default\"\n",
    "bedrock_env.aws_region = \"us-east-1\"\n",
    "bedrock_env.bedrock_model_id = \"anthropic.claude-3-5-sonnet-20240620-v1:0\"\n",
    "bedrock_env.bedrock_rpm_limit = 1\n",
    "bedrock_env.require_bedrock_confirmation = \"DISABLED\""
   ]
  },
  {
   "cell_type": "markdown",
   "metadata": {},
   "source": [
    "## Define Agentic Functions"
   ]
  },
  {
   "cell_type": "code",
   "execution_count": 6,
   "metadata": {},
   "outputs": [],
   "source": [
    "def get_weather_in_celsius(location_id: str, fetch_date: str) -> str:\n",
    "    \"\"\"\n",
    "    Fetches weather data (in Celsius) for a given location and date.\n",
    "\n",
    "    Args:\n",
    "        location_id (str): A unique identifier for the location.\n",
    "        fetch_date (str): The date to fetch the weather for (format: YYYY-MM-DD).\n",
    "\n",
    "    Raises:\n",
    "        Exception: For unexpected errors during execution.\n",
    "\n",
    "    Returns:\n",
    "        str: Temperature in Celsius.\n",
    "    \"\"\"\n",
    "    try:\n",
    "        return str(23)\n",
    "    except Exception as e:\n",
    "        raise Exception(f\"An unexpected error occurred: {e}\") from e"
   ]
  },
  {
   "cell_type": "code",
   "execution_count": 7,
   "metadata": {},
   "outputs": [],
   "source": [
    "def get_weather_in_fahrenheit(location_id: str, fetch_date: str) -> str:\n",
    "    \"\"\"\n",
    "    Fetches weather data (in fahrenheit) for a given location and date.\n",
    "\n",
    "    Args:\n",
    "        location_id (str): A unique identifier for the location.\n",
    "        fetch_date (str): The date to fetch the weather for (format: YYYY-MM-DD).\n",
    "\n",
    "    Raises:\n",
    "        Exception: For unexpected errors during execution.\n",
    "\n",
    "    Returns:\n",
    "        str: Temperature in fahrenheit.\n",
    "    \"\"\"\n",
    "    try:\n",
    "        return str(72)\n",
    "    except Exception as e:\n",
    "        raise Exception(f\"An unexpected error occurred: {e}\") from e"
   ]
  },
  {
   "cell_type": "markdown",
   "metadata": {},
   "source": [
    "### Create Bedrock Agents and Action groups."
   ]
  },
  {
   "cell_type": "code",
   "execution_count": null,
   "metadata": {},
   "outputs": [],
   "source": [
    "import json\n",
    "import logging\n",
    "import sys\n",
    "import time\n",
    "import uuid\n",
    "\n",
    "import boto3\n",
    "\n",
    "logging.basicConfig(stream=sys.stdout, level=logging.INFO)\n",
    "logger = logging.getLogger(__name__)\n",
    "\n",
    "\n",
    "iam_client = boto3.client(\"iam\")\n",
    "sts_client = boto3.client(\"sts\")\n",
    "session = boto3.session.Session()\n",
    "\n",
    "unique_id = str(uuid.uuid4())[:8]"
   ]
  },
  {
   "cell_type": "code",
   "execution_count": 10,
   "metadata": {},
   "outputs": [],
   "source": [
    "bedrock_env.aws_region = session.region_name\n",
    "account_id = sts_client.get_caller_identity()[\"Account\"]"
   ]
  },
  {
   "cell_type": "code",
   "execution_count": null,
   "metadata": {},
   "outputs": [],
   "source": [
    "# Create bedrock agent IAM policy\n",
    "agent_bedrock_allow_policy_name = f\"ucai-iam-policy-name-{unique_id}\"\n",
    "\n",
    "# Create IAM policies for agent\n",
    "bedrock_agent_bedrock_allow_policy_statement = {\n",
    "    \"Version\": \"2012-10-17\",\n",
    "    \"Statement\": [\n",
    "        {\n",
    "            \"Sid\": \"AmazonBedrockAgentBedrockFoundationModelPolicy\",\n",
    "            \"Effect\": \"Allow\",\n",
    "            \"Action\": \"bedrock:InvokeModel\",\n",
    "            \"Resource\": [\n",
    "                f\"arn:aws:bedrock:{bedrock_env.aws_region}::foundation-model/{bedrock_env.bedrock_model_id}\"\n",
    "            ],\n",
    "        },\n",
    "        {\n",
    "            \"Sid\": \"AmazonBedrockAgentStreamBedrockFoundationModelPolicy\",\n",
    "            \"Effect\": \"Allow\",\n",
    "            \"Action\": \"bedrock:InvokeModelWithResponseStream\",\n",
    "            \"Resource\": [\n",
    "                f\"arn:aws:bedrock:{bedrock_env.aws_region}::foundation-model/{bedrock_env.bedrock_model_id}\"\n",
    "            ],\n",
    "        },\n",
    "    ],\n",
    "}\n",
    "\n",
    "\n",
    "bedrock_policy_json = json.dumps(bedrock_agent_bedrock_allow_policy_statement)\n",
    "\n",
    "agent_bedrock_policy = iam_client.create_policy(\n",
    "    PolicyName=agent_bedrock_allow_policy_name, PolicyDocument=bedrock_policy_json\n",
    ")\n",
    "\n",
    "logger.info(\"Bedrock Agent Policy:\\n%s\", pretty_print(agent_bedrock_policy))"
   ]
  },
  {
   "cell_type": "code",
   "execution_count": null,
   "metadata": {},
   "outputs": [],
   "source": [
    "# Create IAM Role for the agent and attach IAM policies\n",
    "agent_role_name = f\"ucai-iam-role-name-{unique_id}\"\n",
    "\n",
    "assume_role_policy_document = {\n",
    "    \"Version\": \"2012-10-17\",\n",
    "    \"Statement\": [\n",
    "        {\n",
    "            \"Effect\": \"Allow\",\n",
    "            \"Principal\": {\"Service\": \"bedrock.amazonaws.com\"},\n",
    "            \"Action\": \"sts:AssumeRole\",\n",
    "        }\n",
    "    ],\n",
    "}\n",
    "\n",
    "assume_role_policy_document_json = json.dumps(assume_role_policy_document)\n",
    "agent_role = iam_client.create_role(\n",
    "    RoleName=agent_role_name, AssumeRolePolicyDocument=assume_role_policy_document_json\n",
    ")\n",
    "\n",
    "# Pause to make sure role is created\n",
    "time.sleep(10)\n",
    "\n",
    "iam_client.attach_role_policy(\n",
    "    RoleName=agent_role_name, PolicyArn=agent_bedrock_policy[\"Policy\"][\"Arn\"]\n",
    ")"
   ]
  },
  {
   "cell_type": "code",
   "execution_count": 13,
   "metadata": {},
   "outputs": [],
   "source": [
    "# Create bedrock agent\n",
    "\n",
    "bedrock_env.bedrock_agent_name = f\"ucai-bedrock-agent-{unique_id}\"\n",
    "agent_description = \"ucai-bedrock-agent-description\"\n",
    "agent_instruction = \"You are a weather agent to fetch the current weather in celsius and fahrenheit for a given location\"\n",
    "\n",
    "bedrock_agent_client = boto3.client(\"bedrock-agent\")\n",
    "\n",
    "create_agent_response = bedrock_agent_client.create_agent(\n",
    "    agentName=bedrock_env.bedrock_agent_name,\n",
    "    agentResourceRoleArn=agent_role[\"Role\"][\"Arn\"],\n",
    "    description=agent_description,\n",
    "    idleSessionTTLInSeconds=1800,\n",
    "    foundationModel=bedrock_env.bedrock_model_id,\n",
    "    instruction=agent_instruction,\n",
    ")\n",
    "# logger.info(create_agent_response)"
   ]
  },
  {
   "cell_type": "code",
   "execution_count": 15,
   "metadata": {},
   "outputs": [],
   "source": [
    "bedrock_env.bedrock_agent_id = create_agent_response[\"agent\"][\"agentId\"]"
   ]
  },
  {
   "cell_type": "markdown",
   "metadata": {},
   "source": [
    "### Bind Agentic Function to Bedrock Action Group"
   ]
  },
  {
   "cell_type": "code",
   "execution_count": 16,
   "metadata": {},
   "outputs": [],
   "source": [
    "def get_agent_functions(require_confirmation=\"DISABLED\"):\n",
    "    \"\"\"\n",
    "    Get agent functions with the specified confirmation requirement.\n",
    "\n",
    "    Args:\n",
    "        require_confirmation: \"ENABLED\" or \"DISABLED\" for function confirmation\n",
    "\n",
    "    Returns:\n",
    "        List of agent function definitions\n",
    "    \"\"\"\n",
    "    return [\n",
    "        {\n",
    "            \"name\": \"get_weather_in_celsius\",\n",
    "            \"description\": \"Fetch the current weather in celsius for a given location and date\",\n",
    "            \"parameters\": {\n",
    "                \"location_id\": {\n",
    "                    \"description\": \"The unique identifier of the location to retrieve the temperature for\",\n",
    "                    \"required\": True,\n",
    "                    \"type\": \"string\",\n",
    "                },\n",
    "                \"fetch_date\": {\n",
    "                    \"description\": \"The specific date for which the temperature needs to be retrieved\",\n",
    "                    \"required\": True,\n",
    "                    \"type\": \"string\",\n",
    "                },\n",
    "            },\n",
    "            \"requireConfirmation\": require_confirmation,\n",
    "        },\n",
    "        {\n",
    "            \"name\": \"get_weather_in_fahrenheit\",\n",
    "            \"description\": \"Fetch the current weather in fahrenheit for a given location and date\",\n",
    "            \"parameters\": {\n",
    "                \"location_id\": {\n",
    "                    \"description\": \"The unique identifier of the location to retrieve the temperature for\",\n",
    "                    \"required\": True,\n",
    "                    \"type\": \"string\",\n",
    "                },\n",
    "                \"fetch_date\": {\n",
    "                    \"description\": \"The specific date for which the temperature needs to be retrieved\",\n",
    "                    \"required\": True,\n",
    "                    \"type\": \"string\",\n",
    "                },\n",
    "            },\n",
    "            \"requireConfirmation\": require_confirmation,\n",
    "        },\n",
    "    ]"
   ]
  },
  {
   "cell_type": "code",
   "execution_count": null,
   "metadata": {},
   "outputs": [],
   "source": [
    "agent_functions = get_agent_functions(bedrock_env.require_bedrock_confirmation)\n",
    "logger.info(f\"agent_functions:{agent_functions}\")"
   ]
  },
  {
   "cell_type": "code",
   "execution_count": 20,
   "metadata": {},
   "outputs": [],
   "source": [
    "# Prepare agent group using function schema\n",
    "agent_action_group_name = f\"ucai-bda-action-group-name-{unique_id}\"\n",
    "agent_action_group_description = \"Actions to fetch the weather of a given location for a given date\"\n",
    "\n",
    "agent_action_group_response = bedrock_agent_client.create_agent_action_group(\n",
    "    agentId=bedrock_env.bedrock_agent_id,\n",
    "    agentVersion=\"DRAFT\",\n",
    "    actionGroupExecutor={\"customControl\": \"RETURN_CONTROL\"},\n",
    "    actionGroupName=agent_action_group_name,\n",
    "    functionSchema={\"functions\": agent_functions},\n",
    "    description=agent_action_group_description,\n",
    ")\n",
    "\n",
    "response = bedrock_agent_client.prepare_agent(agentId=bedrock_env.bedrock_agent_id)"
   ]
  },
  {
   "cell_type": "code",
   "execution_count": 21,
   "metadata": {
    "vscode": {
     "languageId": "ruby"
    }
   },
   "outputs": [],
   "source": [
    "# Create bedrock agent alias\n",
    "agent_alias_name = f\"ucai-bedrock-agent-alias-{unique_id}\"\n",
    "agent_alias_description = \"Alias for the weather agent\"\n",
    "\n",
    "create_alias_response = bedrock_agent_client.create_agent_alias(\n",
    "    agentId=bedrock_env.bedrock_agent_id,\n",
    "    agentAliasName=agent_alias_name,\n",
    "    description=agent_alias_description\n",
    ")\n",
    "\n",
    "bedrock_env.bedrock_agent_alias_id = create_alias_response['agentAlias']['agentAliasId']"
   ]
  },
  {
   "cell_type": "markdown",
   "metadata": {},
   "source": [
    "### UC OSS Bedrock Agent Demo notebook \n",
    "### Shorter version to test existing agents and functions/tools."
   ]
  },
  {
   "cell_type": "code",
   "execution_count": 22,
   "metadata": {
    "vscode": {
     "languageId": "ruby"
    }
   },
   "outputs": [],
   "source": [
    "CATALOG = \"AICatalog\"\n",
    "SCHEMA = \"AISchema\""
   ]
  },
  {
   "cell_type": "code",
   "execution_count": 23,
   "metadata": {
    "vscode": {
     "languageId": "ruby"
    }
   },
   "outputs": [],
   "source": [
    "def setup_uc_client():\n",
    "    \"\"\"Set up Unity Catalog client\"\"\"\n",
    "    config = Configuration()\n",
    "    config.host = \"http://0.0.0.0:8080/api/2.1/unity-catalog\"\n",
    "    api_client = ApiClient(configuration=config)\n",
    "    return UnitycatalogFunctionClient(api_client=api_client)"
   ]
  },
  {
   "cell_type": "code",
   "execution_count": 24,
   "metadata": {
    "vscode": {
     "languageId": "ruby"
    }
   },
   "outputs": [],
   "source": [
    "client = setup_uc_client()"
   ]
  },
  {
   "cell_type": "code",
   "execution_count": null,
   "metadata": {
    "vscode": {
     "languageId": "ruby"
    }
   },
   "outputs": [],
   "source": [
    "client.uc.create_catalog(name=CATALOG, comment=\"Catalog for AI functions\")\n",
    "client.uc.create_schema(catalog_name=CATALOG, name=SCHEMA, comment=\"Schema for AI functions\")\n",
    "client.create_python_function(\n",
    "    func=get_weather_in_celsius, catalog=CATALOG, schema=SCHEMA, replace=True\n",
    ")\n",
    "client.create_python_function(\n",
    "    func=get_weather_in_fahrenheit, catalog=CATALOG, schema=SCHEMA, replace=True\n",
    ")\n",
    "client.list_functions(catalog=CATALOG, schema=SCHEMA)"
   ]
  },
  {
   "cell_type": "code",
   "execution_count": null,
   "metadata": {
    "vscode": {
     "languageId": "ruby"
    }
   },
   "outputs": [],
   "source": [
    "function_name = f\"{CATALOG}.{SCHEMA}.get_weather_in_celsius\"\n",
    "uc_func_toolkit = UCFunctionToolkit(function_names=[function_name], client=client)\n",
    "\n",
    "logger.info(f\"UC Function Toolkit:{uc_func_toolkit}\")"
   ]
  },
  {
   "cell_type": "code",
   "execution_count": null,
   "metadata": {
    "vscode": {
     "languageId": "ruby"
    }
   },
   "outputs": [],
   "source": [
    "# Create a session\n",
    "session_respone = uc_func_toolkit.create_session(\n",
    "    agent_id=bedrock_env.bedrock_agent_id,\n",
    "    agent_alias_id=bedrock_env.bedrock_agent_alias_id,\n",
    "    catalog_name=CATALOG,\n",
    "    schema_name=SCHEMA,\n",
    ")\n",
    "# Generate unique session ID\n",
    "session_id = str(uuid.uuid1())"
   ]
  },
  {
   "cell_type": "code",
   "execution_count": null,
   "metadata": {
    "vscode": {
     "languageId": "ruby"
    }
   },
   "outputs": [],
   "source": [
    "final_response = session_respone.invoke_agent(\n",
    "    input_text=\"What is the weather in Centigrade and Fahrenheit for location 12345 and date of 2025-02-26?\",\n",
    "    enable_trace=True,\n",
    "    session_id=session_id,\n",
    "    uc_client=uc_func_toolkit.client,\n",
    "    model_id=bedrock_env.bedrock_model_id,\n",
    "    rpm_limit=bedrock_env.bedrock_rpm_limit,\n",
    ")"
   ]
  },
  {
   "cell_type": "code",
   "execution_count": null,
   "metadata": {
    "vscode": {
     "languageId": "ruby"
    }
   },
   "outputs": [],
   "source": [
    "logger.info(f\" Resonse from bedrock agent: {final_response.response_body}\")"
   ]
  }
 ],
 "metadata": {
  "kernelspec": {
   "display_name": ".venv",
   "language": "python",
   "name": "python3"
  },
  "language_info": {
   "codemirror_mode": {
    "name": "ipython",
    "version": 3
   },
   "file_extension": ".py",
   "mimetype": "text/x-python",
   "name": "python",
   "nbconvert_exporter": "python",
   "pygments_lexer": "ipython3",
   "version": "3.12.7"
  }
 },
 "nbformat": 4,
 "nbformat_minor": 2
}
