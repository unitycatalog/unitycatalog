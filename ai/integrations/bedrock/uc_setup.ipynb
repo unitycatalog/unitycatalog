{
 "cells": [
  {
   "cell_type": "code",
   "execution_count": null,
   "metadata": {},
   "outputs": [],
   "source": [
    "from unitycatalog.ai.core.client import UnitycatalogFunctionClient\n",
    "from unitycatalog.client import ApiClient, Configuration\n",
    "from unitycatalog.ai.bedrock.toolkit import UCFunctionToolkit\n",
    "import uuid, pprint"
   ]
  },
  {
   "cell_type": "code",
   "execution_count": null,
   "metadata": {},
   "outputs": [],
   "source": [
    "import sys\n",
    "import logging\n",
    "\n",
    "logging.basicConfig(stream=sys.stdout, level=logging.INFO)\n",
    "logger = logging.getLogger(__name__)\n"
   ]
  },
  {
   "cell_type": "code",
   "execution_count": null,
   "metadata": {},
   "outputs": [],
   "source": [
    "def setup_uc_client():\n",
    "    \"\"\"Set up Unity Catalog client\"\"\"\n",
    "    config = Configuration()\n",
    "    config.host = \"http://0.0.0.0:8080/api/2.1/unity-catalog\"\n",
    "    api_client = ApiClient(configuration=config)\n",
    "    return UnitycatalogFunctionClient(api_client=api_client)"
   ]
  },
  {
   "cell_type": "code",
   "execution_count": null,
   "metadata": {},
   "outputs": [],
   "source": [
    "client = setup_uc_client()"
   ]
  },
  {
   "cell_type": "code",
   "execution_count": null,
   "metadata": {},
   "outputs": [],
   "source": [
    "CATALOG = \"AICatalog\"\n",
    "SCHEMA = \"AISchema\""
   ]
  },
  {
   "cell_type": "code",
   "execution_count": null,
   "metadata": {},
   "outputs": [],
   "source": [
    "def get_weather_in_celsius(location_id: str, fetch_date: str) -> str:\n",
    "    \"\"\"\n",
    "    Fetches weather data (in Celsius) for a given location and date.\n",
    "\n",
    "    Args:\n",
    "        location_id (str): A unique identifier for the location.\n",
    "        fetch_date (str): The date to fetch the weather for (format: YYYY-MM-DD).\n",
    "\n",
    "    Raises:\n",
    "        Exception: For unexpected errors during execution.\n",
    "\n",
    "    Returns:\n",
    "        str: Temperature in Celsius.\n",
    "    \"\"\"\n",
    "    try:\n",
    "        return str(23)\n",
    "    except Exception as e:\n",
    "        raise Exception(f\"An unexpected error occurred: {e}\")"
   ]
  },
  {
   "cell_type": "code",
   "execution_count": null,
   "metadata": {},
   "outputs": [],
   "source": [
    "def get_weather_in_fahrenheit(location_id: str, fetch_date: str) -> str:\n",
    "    \"\"\"\n",
    "    Fetches weather data (in fahrenheit) for a given location and date.\n",
    "\n",
    "    Args:\n",
    "        location_id (str): A unique identifier for the location.\n",
    "        fetch_date (str): The date to fetch the weather for (format: YYYY-MM-DD).\n",
    "\n",
    "    Raises:\n",
    "        Exception: For unexpected errors during execution.\n",
    "\n",
    "    Returns:\n",
    "        str: Temperature in fahrenheit.\n",
    "    \"\"\"\n",
    "    try:\n",
    "        return str(72)\n",
    "    except Exception as e:\n",
    "        raise Exception(f\"An unexpected error occurred: {e}\")\n"
   ]
  },
  {
   "cell_type": "code",
   "execution_count": null,
   "metadata": {},
   "outputs": [],
   "source": [
    "client.uc.create_catalog(name=CATALOG, comment=\"Catalog for AI functions\")\n"
   ]
  },
  {
   "cell_type": "code",
   "execution_count": null,
   "metadata": {},
   "outputs": [],
   "source": [
    "client.uc.create_schema(catalog_name=CATALOG, name=SCHEMA, comment=\"Schema for AI functions\")\n"
   ]
  },
  {
   "cell_type": "code",
   "execution_count": null,
   "metadata": {},
   "outputs": [],
   "source": [
    "client.create_python_function(\n",
    "    func=get_weather_in_celsius, \n",
    "    catalog=CATALOG, \n",
    "    schema=SCHEMA, \n",
    "    replace=True)"
   ]
  },
  {
   "cell_type": "code",
   "execution_count": null,
   "metadata": {},
   "outputs": [],
   "source": [
    "client.create_python_function(\n",
    "    func=get_weather_in_fahrenheit, \n",
    "    catalog=CATALOG, \n",
    "    schema=SCHEMA, \n",
    "    replace=True)"
   ]
  },
  {
   "cell_type": "code",
   "execution_count": null,
   "metadata": {},
   "outputs": [],
   "source": [
    "client.list_functions(catalog=CATALOG, schema=SCHEMA)\n"
   ]
  },
  {
   "cell_type": "code",
   "execution_count": null,
   "metadata": {},
   "outputs": [],
   "source": [
    "function_name = f\"{CATALOG}.{SCHEMA}.get_weather_in_celsius\"\n",
    "toolkit = UCFunctionToolkit(function_names=[function_name], client=client)"
   ]
  },
  {
   "cell_type": "code",
   "execution_count": null,
   "metadata": {},
   "outputs": [],
   "source": [
    "print(toolkit)\n"
   ]
  }
 ],
 "metadata": {
  "kernelspec": {
   "display_name": ".venv",
   "language": "python",
   "name": "python3"
  },
  "language_info": {
   "codemirror_mode": {
    "name": "ipython",
    "version": 3
   },
   "file_extension": ".py",
   "mimetype": "text/x-python",
   "name": "python",
   "nbconvert_exporter": "python",
   "pygments_lexer": "ipython3",
   "version": "3.13.1"
  }
 },
 "nbformat": 4,
 "nbformat_minor": 2
}
