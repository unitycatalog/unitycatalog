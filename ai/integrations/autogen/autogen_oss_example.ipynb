{
 "cells": [
  {
   "cell_type": "markdown",
   "id": "ef0e97e0-a18b-4a4d-b895-a212045084ea",
   "metadata": {},
   "source": [
    "# AutoGen Tool calling capabilities with OSS Unity Catalog\n",
    "\n",
    "## Prerequisites\n",
    "\n",
    "**API Key**\n",
    "To run this tutorial, you will need an OpenAI API key. \n",
    "\n",
    "Once you have acquired your key, set it to the environment variable `OPENAI_API_KEY`.\n",
    "\n",
    "Below, we validate that this key is set properly in your environment.\n",
    "\n",
    "**Packages**\n",
    "\n",
    "To interface with both UnityCatalog and AutoGen, you will need to install the following packages:\n",
    "\n",
    "```shell\n",
    "pip install autogen unitycatalog-ai unitycatalog-autogen unitycatalog-client\n",
    "```"
   ]
  },
  {
   "cell_type": "code",
   "execution_count": 1,
   "id": "72b76dbc-f999-4487-a405-a44ae38da028",
   "metadata": {},
   "outputs": [],
   "source": [
    "import os\n",
    "\n",
    "assert (\n",
    "    \"OPENAI_API_KEY\" in os.environ\n",
    "), \"Please set the OPENAI_API_KEY environment variable to your OpenAI API key\""
   ]
  },
  {
   "cell_type": "markdown",
   "id": "dc8f4354-33ff-4475-b97d-6024bdd53044",
   "metadata": {},
   "source": [
    "## Configuration and Client setup\n",
    "\n",
    "In order to connect to your Unity Catalog server, you'll need an instance of the `ApiClient` from the `unitycatalog-client` package. \n",
    "\n",
    "> Note: If you don't already have a Catalog and a Schema created, be sure to create them before running this notebook and adjust the `CATALOG` and `SCHEMA` variables below to suit."
   ]
  },
  {
   "cell_type": "code",
   "execution_count": 2,
   "id": "337293cd-0028-47a8-8e4b-e14fcea2c28f",
   "metadata": {},
   "outputs": [
    {
     "name": "stderr",
     "output_type": "stream",
     "text": [
      "Tried to attach usage logger `pyspark.databricks.pandas.usage_logger`, but an exception was raised: JVM wasn't initialised. Did you call it on executor side?\n"
     ]
    }
   ],
   "source": [
    "from unitycatalog.ai.autogen.toolkit import UCFunctionToolkit\n",
    "from unitycatalog.ai.core.oss import UnitycatalogFunctionClient\n",
    "from unitycatalog.client import ApiClient, Configuration"
   ]
  },
  {
   "cell_type": "code",
   "execution_count": 3,
   "id": "85f843c0-2691-4f88-8eb3-322e1b8c7a3e",
   "metadata": {},
   "outputs": [],
   "source": [
    "config = Configuration()\n",
    "config.host = \"http://localhost:8080/api/2.1/unity-catalog\"\n",
    "\n",
    "# The base ApiClient is async\n",
    "api_client = ApiClient(configuration=config)\n",
    "\n",
    "client = UnitycatalogFunctionClient(api_client=api_client)\n",
    "\n",
    "CATALOG = \"AICatalog\"\n",
    "SCHEMA = \"AISchema\""
   ]
  },
  {
   "cell_type": "markdown",
   "id": "278fbac1-34de-487e-8535-5595d77222ad",
   "metadata": {},
   "source": [
    "## Define a function and register it to Unity Catalog\n",
    "\n",
    "In this next section, we'll be defining some Python functions and creating them within Unity Catalog so that they can be retrieved and used as tools by an AutoGen agent. \n",
    "\n",
    "There are a few things to keep in mind when creating functions for use with the `create_python_function` API:\n",
    "\n",
    "- Ensure that your have properly defined types for all arguments and for the return of the function.\n",
    "- Ensure that you have a Googlep-style docstring defined that includes descriptions for the function, each argument, and the return of the function. This is critical, as these are used to populate the metadata associated with the function within Unity Catalog, providing contextual data for an LLM to understand when and how to call the tool associated with this function.\n",
    "- If there are packages being called that are not part of core Python, ensure that the import statements are locally scoped (defined within the function body)."
   ]
  },
  {
   "cell_type": "code",
   "execution_count": 12,
   "id": "cfc1dd58-c1a5-4d64-b1d1-b277e4516f30",
   "metadata": {},
   "outputs": [],
   "source": [
    "def calculate_vpd(temperature_c: float, dew_point_c: float) -> float:\n",
    "    \"\"\"\n",
    "    Calculate Vapor Pressure Deficit (VPD) given temperature and dew point in Celsius.\n",
    "\n",
    "    Args:\n",
    "        temperature_c (float): Air temperature in Celsius.\n",
    "        dew_point_c (float): Dew point temperature in Celsius.\n",
    "\n",
    "    Returns:\n",
    "        Vapor Pressure Deficit in hPa.\n",
    "    \"\"\"\n",
    "    import math  # local imports are needed for execution\n",
    "\n",
    "    a = 17.625\n",
    "    b = 243.04\n",
    "\n",
    "    e_s = 6.1094 * math.exp((a * temperature_c) / (b + temperature_c))\n",
    "    e_a = 6.1094 * math.exp((a * dew_point_c) / (b + dew_point_c))\n",
    "\n",
    "    vpd = e_s - e_a\n",
    "    return vpd\n",
    "\n",
    "\n",
    "def fahrenheit_to_celsius(fahrenheit: float) -> float:\n",
    "    \"\"\"\n",
    "    Converts temperature from Fahrenheit to Celsius.\n",
    "\n",
    "    Args:\n",
    "        fahrenheit (float): Temperature in degrees Fahrenheit.\n",
    "\n",
    "    Returns:\n",
    "        float: Temperature in degrees Celsius.\n",
    "    \"\"\"\n",
    "    return (fahrenheit - 32) * 5.0 / 9.0"
   ]
  },
  {
   "cell_type": "code",
   "execution_count": 5,
   "id": "92c800f2-7891-42ad-8bd8-2b3da7b40a32",
   "metadata": {},
   "outputs": [
    {
     "data": {
      "text/plain": [
       "FunctionInfo(name='calculate_vpd', catalog_name='AICatalog', schema_name='AISchema', input_params=FunctionParameterInfos(parameters=[FunctionParameterInfo(name='temperature_c', type_text='DOUBLE', type_json='{\"name\": \"temperature_c\", \"type\": \"double\", \"nullable\": false, \"metadata\": {\"comment\": \"Air temperature in Celsius.\"}}', type_name=<ColumnTypeName.DOUBLE: 'DOUBLE'>, type_precision=None, type_scale=None, type_interval_type=None, position=0, parameter_mode=None, parameter_type=None, parameter_default=None, comment='Air temperature in Celsius.'), FunctionParameterInfo(name='dew_point_c', type_text='DOUBLE', type_json='{\"name\": \"dew_point_c\", \"type\": \"double\", \"nullable\": false, \"metadata\": {\"comment\": \"Dew point temperature in Celsius.\"}}', type_name=<ColumnTypeName.DOUBLE: 'DOUBLE'>, type_precision=None, type_scale=None, type_interval_type=None, position=1, parameter_mode=None, parameter_type=None, parameter_default=None, comment='Dew point temperature in Celsius.')]), data_type=<ColumnTypeName.DOUBLE: 'DOUBLE'>, full_data_type='DOUBLE', return_params=None, routine_body='EXTERNAL', routine_definition='import math  # local imports are needed for execution\\n\\na = 17.625\\nb = 243.04\\n\\ne_s = 6.1094 * math.exp((a * temperature_c) / (b + temperature_c))\\ne_a = 6.1094 * math.exp((a * dew_point_c) / (b + dew_point_c))\\n\\nvpd = e_s - e_a\\nreturn vpd', routine_dependencies=None, parameter_style='S', is_deterministic=True, sql_data_access='NO_SQL', is_null_call=False, security_type='DEFINER', specific_name='calculate_vpd', comment='Calculate Vapor Pressure Deficit (VPD) given temperature and dew point in Celsius.', properties='null', full_name='AICatalog.AISchema.calculate_vpd', owner=None, created_at=1732652054069, created_by=None, updated_at=1732652054069, updated_by=None, function_id='3d1e1a70-537a-484a-a1ee-30bad176b9f2', external_language='PYTHON')"
      ]
     },
     "execution_count": 5,
     "metadata": {},
     "output_type": "execute_result"
    }
   ],
   "source": [
    "client.create_python_function(func=calculate_vpd, catalog=CATALOG, schema=SCHEMA, replace=True)"
   ]
  },
  {
   "cell_type": "code",
   "execution_count": 13,
   "id": "aa0ed262-ddac-461f-acaf-0265711498b3",
   "metadata": {},
   "outputs": [
    {
     "data": {
      "text/plain": [
       "FunctionInfo(name='fahrenheit_to_celsius', catalog_name='AICatalog', schema_name='AISchema', input_params=FunctionParameterInfos(parameters=[FunctionParameterInfo(name='fahrenheit', type_text='DOUBLE', type_json='{\"name\": \"fahrenheit\", \"type\": \"double\", \"nullable\": false, \"metadata\": {\"comment\": \"Temperature in degrees Fahrenheit.\"}}', type_name=<ColumnTypeName.DOUBLE: 'DOUBLE'>, type_precision=None, type_scale=None, type_interval_type=None, position=0, parameter_mode=None, parameter_type=None, parameter_default=None, comment='Temperature in degrees Fahrenheit.')]), data_type=<ColumnTypeName.DOUBLE: 'DOUBLE'>, full_data_type='DOUBLE', return_params=None, routine_body='EXTERNAL', routine_definition='return (fahrenheit - 32) * 5.0 / 9.0', routine_dependencies=None, parameter_style='S', is_deterministic=True, sql_data_access='NO_SQL', is_null_call=False, security_type='DEFINER', specific_name='fahrenheit_to_celsius', comment='Converts temperature from Fahrenheit to Celsius.', properties='null', full_name='AICatalog.AISchema.fahrenheit_to_celsius', owner=None, created_at=1732652544922, created_by=None, updated_at=1732652544922, updated_by=None, function_id='87b7e1ec-e8e6-4224-aab4-1bcb01d1faf7', external_language='PYTHON')"
      ]
     },
     "execution_count": 13,
     "metadata": {},
     "output_type": "execute_result"
    }
   ],
   "source": [
    "client.create_python_function(\n",
    "    func=fahrenheit_to_celsius, catalog=CATALOG, schema=SCHEMA, replace=True\n",
    ")"
   ]
  },
  {
   "cell_type": "markdown",
   "id": "e28d0c6d-7af4-4daf-8993-d5037524c2de",
   "metadata": {},
   "source": [
    "## Create a Toolkit instance of the function(s)\n",
    "\n",
    "Now that the function has been created within Unity Catalog, we can use the `unitycatalog-autogen` package to create a toolkit instance that our Agent will 'understand' as a valid tool in its APIs. "
   ]
  },
  {
   "cell_type": "code",
   "execution_count": 14,
   "id": "0399a04e-b5da-4e7c-a406-71dc99f116ab",
   "metadata": {},
   "outputs": [],
   "source": [
    "vpd_tool = f\"{CATALOG}.{SCHEMA}.calculate_vpd\"\n",
    "f_to_c_tool = f\"{CATALOG}.{SCHEMA}.fahrenheit_to_celsius\"\n",
    "\n",
    "toolkit = UCFunctionToolkit(function_names=[vpd_tool, f_to_c_tool], client=client)\n",
    "\n",
    "tools = toolkit.tools"
   ]
  },
  {
   "cell_type": "code",
   "execution_count": 15,
   "id": "a98eff1a-50d5-445e-bac2-57a3c0c4e7b3",
   "metadata": {},
   "outputs": [
    {
     "data": {
      "text/plain": [
       "[AutogenTool(fn=<function UCFunctionToolkit.uc_function_to_autogen_tool.<locals>.func at 0x31510a8e0>, name='AICatalog__AISchema__calculate_vpd', description='Calculate Vapor Pressure Deficit (VPD) given temperature and dew point in Celsius.', tool={'type': 'function', 'function': {'name': 'AICatalog__AISchema__calculate_vpd', 'strict': True, 'parameters': {'properties': {'temperature_c': {'description': 'Air temperature in Celsius.', 'title': 'Temperature C', 'type': 'number'}, 'dew_point_c': {'description': 'Dew point temperature in Celsius.', 'title': 'Dew Point C', 'type': 'number'}}, 'title': 'AICatalog__AISchema__calculate_vpd__params', 'type': 'object', 'additionalProperties': False, 'required': ['temperature_c', 'dew_point_c']}, 'description': 'Calculate Vapor Pressure Deficit (VPD) given temperature and dew point in Celsius.'}}),\n",
       " AutogenTool(fn=<function UCFunctionToolkit.uc_function_to_autogen_tool.<locals>.func at 0x31510bce0>, name='AICatalog__AISchema__fahrenheit_to_celsius', description='Converts temperature from Fahrenheit to Celsius.', tool={'type': 'function', 'function': {'name': 'AICatalog__AISchema__fahrenheit_to_celsius', 'strict': True, 'parameters': {'properties': {'fahrenheit': {'description': 'Temperature in degrees Fahrenheit.', 'title': 'Fahrenheit', 'type': 'number'}}, 'title': 'AICatalog__AISchema__fahrenheit_to_celsius__params', 'type': 'object', 'additionalProperties': False, 'required': ['fahrenheit']}, 'description': 'Converts temperature from Fahrenheit to Celsius.'}})]"
      ]
     },
     "execution_count": 15,
     "metadata": {},
     "output_type": "execute_result"
    }
   ],
   "source": [
    "tools"
   ]
  },
  {
   "cell_type": "markdown",
   "id": "64d0b9b4-b8d6-461e-9c50-fb852cbd670d",
   "metadata": {},
   "source": [
    "## Create a Conversable Agent that uses our tool\n",
    "\n",
    "Now we get to actually create an Agent. As part of our definition, we'll be applying the tool defintion from our Toolkit instance. "
   ]
  },
  {
   "cell_type": "code",
   "execution_count": 16,
   "id": "af5bcc69-809a-4e83-843d-4102741fd1ce",
   "metadata": {},
   "outputs": [
    {
     "name": "stderr",
     "output_type": "stream",
     "text": [
      "/Users/benjamin.wilson/.pyenv/versions/anaconda3-2022.10/envs/mlflow-311/lib/python3.11/site-packages/autogen/agentchat/conversable_agent.py:2585: UserWarning: Function 'AICatalog__AISchema__fahrenheit_to_celsius' is being overridden.\n",
      "  warnings.warn(f\"Function '{tool_sig['function']['name']}' is being overridden.\", UserWarning)\n",
      "/Users/benjamin.wilson/.pyenv/versions/anaconda3-2022.10/envs/mlflow-311/lib/python3.11/site-packages/autogen/agentchat/conversable_agent.py:2504: UserWarning: Function 'AICatalog__AISchema__fahrenheit_to_celsius' is being overridden.\n",
      "  warnings.warn(f\"Function '{name}' is being overridden.\", UserWarning)\n"
     ]
    }
   ],
   "source": [
    "from autogen import ConversableAgent, GroupChat, GroupChatManager\n",
    "\n",
    "# Set up API keys\n",
    "OPENAI_API_KEY = os.environ[\"OPENAI_API_KEY\"]\n",
    "\n",
    "# Define the assistant agent that suggests tool calls\n",
    "assistant = ConversableAgent(\n",
    "    name=\"Assistant\",\n",
    "    system_message=\"\"\"You are a helpful AI assistant that specializes in answering questions about weather phenomena.\n",
    "    You have the ability to call a tool for determining the vapor pressure deficit if it supports the question that you are posed.\n",
    "    Return 'TERMINATE' when the task is done and the final answer is returned.\"\"\",\n",
    "    llm_config={\"config_list\": [{\"model\": \"gpt-4o\", \"api_key\": OPENAI_API_KEY}]},\n",
    ")\n",
    "\n",
    "# The user proxy agent is used for interacting with the assistant agent\n",
    "# and executes tool calls\n",
    "user_proxy = ConversableAgent(\n",
    "    name=\"User\",\n",
    "    llm_config=False,\n",
    "    is_termination_msg=lambda msg: msg.get(\"content\") is not None and \"TERMINATE\" in msg[\"content\"],\n",
    "    human_input_mode=\"NEVER\",\n",
    ")\n",
    "\n",
    "converter = ConversableAgent(\n",
    "    name=\"Fahrenheit_to_Celsius_converter\",\n",
    "    system_message=\"You are a helpful AI assistant.\",\n",
    "    llm_config={\"config_list\": [{\"model\": \"gpt-4o\", \"api_key\": OPENAI_API_KEY}]},\n",
    ")\n",
    "\n",
    "# Define agent pairs for each tool\n",
    "agent_pairs_get_vpd = {\"callers\": assistant, \"executors\": user_proxy}\n",
    "\n",
    "# Register the 'vpd' tool with its agent pairs\n",
    "tool_get_vpd = next(tool for tool in tools if \"calculate_vpd\" in tool.name)\n",
    "tool_get_vpd.register_function(\n",
    "    callers=agent_pairs_get_vpd[\"callers\"], executors=agent_pairs_get_vpd[\"executors\"]\n",
    ")\n",
    "\n",
    "agent_pairs_temp_c_to_f = {\"callers\": converter, \"executors\": user_proxy}\n",
    "\n",
    "tool_converter = next(tool for tool in tools if \"fahrenheit\" in tool.name)\n",
    "tool_converter.register_function(\n",
    "    callers=agent_pairs_get_vpd[\"callers\"], executors=agent_pairs_get_vpd[\"executors\"]\n",
    ")\n",
    "\n",
    "\n",
    "# Register the Agents with the toolkit instance\n",
    "toolkit.register_with_agents(callers=[assistant, converter], executors=[user_proxy])"
   ]
  },
  {
   "cell_type": "markdown",
   "id": "49ebacc1-dea5-4252-b8bf-ffb131a6647f",
   "metadata": {},
   "source": [
    "## Ask the Agent a question\n",
    "\n",
    "Now that we have everything configured, let's test out our Agent! "
   ]
  },
  {
   "cell_type": "code",
   "execution_count": 18,
   "id": "e459e12d-1d36-46c7-b96a-5418fa8e7a72",
   "metadata": {},
   "outputs": [
    {
     "name": "stdout",
     "output_type": "stream",
     "text": [
      "\u001b[33mUser\u001b[0m (to chat_manager):\n",
      "\n",
      "I just fell in a lake. It's 85.2F and the dew point is 41.8F. The humidity is 22.4 percent and there's a 22kmh wind blowing constantly. How long will it take me to dry off?\n",
      "\n",
      "--------------------------------------------------------------------------------\n",
      "\u001b[32m\n",
      "Next speaker: Assistant\n",
      "\u001b[0m\n",
      "\u001b[31m\n",
      ">>>>>>>> USING AUTO REPLY...\u001b[0m\n",
      "\u001b[33mAssistant\u001b[0m (to chat_manager):\n",
      "\n",
      "To estimate how long it will take for you to dry off after falling into a lake, several factors come into play: temperature, dew point, humidity, wind speed, and even the type of clothing you're wearing. The parameters provided—temperature, dew point, humidity, and wind speed—affect the evaporation rate, which is crucial for drying.\n",
      "\n",
      "While I can't provide a precise time for drying, I can help calculate the vapor pressure deficit (VPD), an important factor influencing evaporation. VPD measures the drying power of the air, with higher values indicating faster drying conditions. Would you like me to calculate the VPD for the current conditions?\n",
      "\n",
      "--------------------------------------------------------------------------------\n",
      "\u001b[32m\n",
      "Next speaker: Fahrenheit_to_Celsius_converter\n",
      "\u001b[0m\n",
      "\u001b[31m\n",
      ">>>>>>>> USING AUTO REPLY...\u001b[0m\n",
      "\u001b[33mFahrenheit_to_Celsius_converter\u001b[0m (to chat_manager):\n",
      "\n",
      "\u001b[32m***** Suggested tool call (call_7iIX2paWscgP7CK49LYLcKA9): AICatalog__AISchema__fahrenheit_to_celsius *****\u001b[0m\n",
      "Arguments: \n",
      "{\"fahrenheit\": 85.2}\n",
      "\u001b[32m***********************************************************************************************************\u001b[0m\n",
      "\u001b[32m***** Suggested tool call (call_PDMFZJVXPdZPkJnQ82WohFJL): AICatalog__AISchema__fahrenheit_to_celsius *****\u001b[0m\n",
      "Arguments: \n",
      "{\"fahrenheit\": 41.8}\n",
      "\u001b[32m***********************************************************************************************************\u001b[0m\n",
      "\n",
      "--------------------------------------------------------------------------------\n",
      "\u001b[32m\n",
      "Next speaker: User\n",
      "\u001b[0m\n",
      "\u001b[35m\n",
      ">>>>>>>> EXECUTING FUNCTION AICatalog__AISchema__fahrenheit_to_celsius...\u001b[0m\n",
      "\u001b[35m\n",
      ">>>>>>>> EXECUTING FUNCTION AICatalog__AISchema__fahrenheit_to_celsius...\u001b[0m\n",
      "\u001b[33mUser\u001b[0m (to chat_manager):\n",
      "\n",
      "\u001b[33mUser\u001b[0m (to chat_manager):\n",
      "\n",
      "\u001b[32m***** Response from calling tool (call_7iIX2paWscgP7CK49LYLcKA9) *****\u001b[0m\n",
      "{\"format\": \"SCALAR\", \"value\": \"29.555555555555557\"}\n",
      "\u001b[32m**********************************************************************\u001b[0m\n",
      "\n",
      "--------------------------------------------------------------------------------\n",
      "\u001b[33mUser\u001b[0m (to chat_manager):\n",
      "\n",
      "\u001b[32m***** Response from calling tool (call_PDMFZJVXPdZPkJnQ82WohFJL) *****\u001b[0m\n",
      "{\"format\": \"SCALAR\", \"value\": \"5.444444444444443\"}\n",
      "\u001b[32m**********************************************************************\u001b[0m\n",
      "\n",
      "--------------------------------------------------------------------------------\n",
      "\u001b[32m\n",
      "Next speaker: Assistant\n",
      "\u001b[0m\n",
      "\u001b[31m\n",
      ">>>>>>>> USING AUTO REPLY...\u001b[0m\n",
      "\u001b[33mAssistant\u001b[0m (to chat_manager):\n",
      "\n",
      "\u001b[32m***** Suggested tool call (call_ep2br5BVyc0qxSGUPAxKnwWd): AICatalog__AISchema__calculate_vpd *****\u001b[0m\n",
      "Arguments: \n",
      "{\"temperature_c\":29.6,\"dew_point_c\":5.4}\n",
      "\u001b[32m***************************************************************************************************\u001b[0m\n",
      "\n",
      "--------------------------------------------------------------------------------\n",
      "\u001b[32m\n",
      "Next speaker: User\n",
      "\u001b[0m\n",
      "\u001b[35m\n",
      ">>>>>>>> EXECUTING FUNCTION AICatalog__AISchema__calculate_vpd...\u001b[0m\n",
      "\u001b[33mUser\u001b[0m (to chat_manager):\n",
      "\n",
      "\u001b[33mUser\u001b[0m (to chat_manager):\n",
      "\n",
      "\u001b[32m***** Response from calling tool (call_ep2br5BVyc0qxSGUPAxKnwWd) *****\u001b[0m\n",
      "{\"format\": \"SCALAR\", \"value\": \"32.44115098000975\"}\n",
      "\u001b[32m**********************************************************************\u001b[0m\n",
      "\n",
      "--------------------------------------------------------------------------------\n",
      "\u001b[32m\n",
      "Next speaker: Assistant\n",
      "\u001b[0m\n",
      "\u001b[31m\n",
      ">>>>>>>> USING AUTO REPLY...\u001b[0m\n",
      "\u001b[33mAssistant\u001b[0m (to chat_manager):\n",
      "\n",
      "The vapor pressure deficit (VPD) for the current conditions is approximately 32.44 hPa. A high VPD, like this one, suggests that the air has a strong drying potential, so you should dry off relatively quickly, especially with the aid of a 22 km/h wind. However, the exact drying time can still depend on other factors such as clothing material and body movement. \n",
      "\n",
      "This drying process might take anywhere from a few minutes to about an hour, but this is a rough estimate. Let me know if there's anything else you need help with! \n",
      "\n",
      "TERMINATE\n",
      "\n",
      "--------------------------------------------------------------------------------\n",
      "\u001b[32m\n",
      "Next speaker: User\n",
      "\u001b[0m\n"
     ]
    },
    {
     "data": {
      "text/plain": [
       "ChatResult(chat_id=None, chat_history=[{'content': \"I just fell in a lake. It's 85.2F and the dew point is 41.8F. The humidity is 22.4 percent and there's a 22kmh wind blowing constantly. How long will it take me to dry off?\", 'role': 'assistant', 'name': 'User'}, {'content': \"To estimate how long it will take for you to dry off after falling into a lake, several factors come into play: temperature, dew point, humidity, wind speed, and even the type of clothing you're wearing. The parameters provided—temperature, dew point, humidity, and wind speed—affect the evaporation rate, which is crucial for drying.\\n\\nWhile I can't provide a precise time for drying, I can help calculate the vapor pressure deficit (VPD), an important factor influencing evaporation. VPD measures the drying power of the air, with higher values indicating faster drying conditions. Would you like me to calculate the VPD for the current conditions?\", 'name': 'Assistant', 'role': 'user'}, {'content': '', 'tool_calls': [{'id': 'call_7iIX2paWscgP7CK49LYLcKA9', 'function': {'arguments': '{\"fahrenheit\": 85.2}', 'name': 'AICatalog__AISchema__fahrenheit_to_celsius'}, 'type': 'function'}, {'id': 'call_PDMFZJVXPdZPkJnQ82WohFJL', 'function': {'arguments': '{\"fahrenheit\": 41.8}', 'name': 'AICatalog__AISchema__fahrenheit_to_celsius'}, 'type': 'function'}], 'name': 'Fahrenheit_to_Celsius_converter', 'role': 'assistant'}, {'content': '{\"format\": \"SCALAR\", \"value\": \"29.555555555555557\"}\\n\\n{\"format\": \"SCALAR\", \"value\": \"5.444444444444443\"}', 'tool_responses': [{'tool_call_id': 'call_7iIX2paWscgP7CK49LYLcKA9', 'role': 'tool', 'content': '{\"format\": \"SCALAR\", \"value\": \"29.555555555555557\"}'}, {'tool_call_id': 'call_PDMFZJVXPdZPkJnQ82WohFJL', 'role': 'tool', 'content': '{\"format\": \"SCALAR\", \"value\": \"5.444444444444443\"}'}], 'role': 'tool', 'name': 'User'}, {'content': '', 'tool_calls': [{'id': 'call_ep2br5BVyc0qxSGUPAxKnwWd', 'function': {'arguments': '{\"temperature_c\":29.6,\"dew_point_c\":5.4}', 'name': 'AICatalog__AISchema__calculate_vpd'}, 'type': 'function'}], 'name': 'Assistant', 'role': 'assistant'}, {'content': '{\"format\": \"SCALAR\", \"value\": \"32.44115098000975\"}', 'tool_responses': [{'tool_call_id': 'call_ep2br5BVyc0qxSGUPAxKnwWd', 'role': 'tool', 'content': '{\"format\": \"SCALAR\", \"value\": \"32.44115098000975\"}'}], 'role': 'tool', 'name': 'User'}, {'content': \"The vapor pressure deficit (VPD) for the current conditions is approximately 32.44 hPa. A high VPD, like this one, suggests that the air has a strong drying potential, so you should dry off relatively quickly, especially with the aid of a 22 km/h wind. However, the exact drying time can still depend on other factors such as clothing material and body movement. \\n\\nThis drying process might take anywhere from a few minutes to about an hour, but this is a rough estimate. Let me know if there's anything else you need help with! \\n\\nTERMINATE\", 'name': 'Assistant', 'role': 'user'}], summary=\"The vapor pressure deficit (VPD) for the current conditions is approximately 32.44 hPa. A high VPD, like this one, suggests that the air has a strong drying potential, so you should dry off relatively quickly, especially with the aid of a 22 km/h wind. However, the exact drying time can still depend on other factors such as clothing material and body movement. \\n\\nThis drying process might take anywhere from a few minutes to about an hour, but this is a rough estimate. Let me know if there's anything else you need help with! \\n\\n\", cost={'usage_including_cached_inference': {'total_cost': 0}, 'usage_excluding_cached_inference': {'total_cost': 0}}, human_input=[])"
      ]
     },
     "execution_count": 18,
     "metadata": {},
     "output_type": "execute_result"
    }
   ],
   "source": [
    "groupchat = GroupChat(agents=[user_proxy, assistant, converter], messages=[], max_round=10)\n",
    "manager = GroupChatManager(\n",
    "    groupchat=groupchat,\n",
    "    llm_config={\"config_list\": [{\"model\": \"gpt-4o\", \"api_key\": OPENAI_API_KEY}]},\n",
    ")\n",
    "\n",
    "user_proxy.initiate_chat(\n",
    "    manager,\n",
    "    message=\"I just fell in a lake. It's 85.2F and the dew point is 41.8F. The humidity is 22.4 \"\n",
    "    \"percent and there's a 22kmh wind blowing constantly. How long will it take me to dry off?\",\n",
    ")"
   ]
  }
 ],
 "metadata": {
  "kernelspec": {
   "display_name": "Python 3 (ipykernel)",
   "language": "python",
   "name": "python3"
  },
  "language_info": {
   "codemirror_mode": {
    "name": "ipython",
    "version": 3
   },
   "file_extension": ".py",
   "mimetype": "text/x-python",
   "name": "python",
   "nbconvert_exporter": "python",
   "pygments_lexer": "ipython3",
   "version": "3.11.9"
  }
 },
 "nbformat": 4,
 "nbformat_minor": 5
}
